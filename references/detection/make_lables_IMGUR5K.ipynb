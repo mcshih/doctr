{
 "cells": [
  {
   "cell_type": "code",
   "execution_count": 1,
   "metadata": {},
   "outputs": [],
   "source": [
    "import json\n",
    "import os\n",
    "from pathlib import Path\n",
    "import cv2\n",
    "import numpy as np"
   ]
  },
  {
   "cell_type": "code",
   "execution_count": 3,
   "metadata": {},
   "outputs": [
    {
     "name": "stdout",
     "output_type": "stream",
     "text": [
      "g6YLDXT error\n",
      "FJ3A3M4 error\n"
     ]
    }
   ],
   "source": [
    "label_path = \"/mnt/HDD5/shih/IMGUR5K-Handwriting-Dataset/dataset_info/imgur5k_annotations_train.json\"\n",
    "image_folder = \"/mnt/HDD5/shih/IMGUR5K-Handwriting-Dataset/images/\"\n",
    "\n",
    "with open(label_path) as f:\n",
    "    annotation_file = json.load(f)\n",
    "\n",
    "labels_dict = {}\n",
    "for img_id in list(annotation_file['index_id']):\n",
    "    try:\n",
    "        img_dict = {}\n",
    "        ann_ids = annotation_file['index_to_ann_map'][img_id]\n",
    "        annotations = [eval(annotation_file['ann_id'][a_id]['bounding_box']) for a_id in ann_ids]\n",
    "        img_filename = img_id + '.jpg'\n",
    "        im = cv2.imread(image_folder+img_filename)\n",
    "        img_dimensions = tuple(im.shape[:2])\n",
    "        img_dict['img_dimensions'] = img_dimensions\n",
    "        img_hash = annotation_file['index_id'][img_id]['image_hash']\n",
    "        img_dict['img_hash'] = img_hash\n",
    "        polygons = [cv2.boxPoints(((box[0], box[1]), (box[2]*0.9, box[3]*0.9), -box[4])).tolist() for box in annotations]\n",
    "        img_dict['polygons'] = polygons\n",
    "        labels_dict[img_filename] =  img_dict\n",
    "    except:\n",
    "        print(img_id, \"error\")\n",
    "        labels_dict.pop(img_id, None)\n",
    "# print(labels_dict)\n",
    "with open(\"/mnt/HDD5/shih/IMGUR5K-Handwriting-Dataset/dataset_info/my_train_shrink.json\", \"w\") as outfile:\n",
    "    json.dump(labels_dict, outfile, indent = 4)\n",
    "    outfile.close()"
   ]
  }
 ],
 "metadata": {
  "kernelspec": {
   "display_name": "Python 3",
   "language": "python",
   "name": "python3"
  },
  "language_info": {
   "codemirror_mode": {
    "name": "ipython",
    "version": 3
   },
   "file_extension": ".py",
   "mimetype": "text/x-python",
   "name": "python",
   "nbconvert_exporter": "python",
   "pygments_lexer": "ipython3",
   "version": "3.7.3"
  },
  "orig_nbformat": 4
 },
 "nbformat": 4,
 "nbformat_minor": 2
}
